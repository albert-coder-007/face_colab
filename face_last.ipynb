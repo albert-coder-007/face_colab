{
  "cells": [
    {
      "cell_type": "markdown",
      "metadata": {
        "id": "view-in-github",
        "colab_type": "text"
      },
      "source": [
        "<a href=\"https://colab.research.google.com/github/albert-coder-007/face_colab/blob/main/face_last.ipynb\" target=\"_parent\"><img src=\"https://colab.research.google.com/assets/colab-badge.svg\" alt=\"Open In Colab\"/></a>"
      ]
    },
    {
      "cell_type": "markdown",
      "metadata": {
        "id": "6ZV95cvmGy3X"
      },
       "source": [
        "facefuison换脸！  \n"
      ]
    },
    {
      "cell_type": "code",
      "execution_count": null,
      "metadata": {
        "id": "LfXDWmk99Ntp",
        "cellView": "form"
      },
      "outputs": [],
      "source": [
        "#1.clone代码\n",
        "\n",
        "tag = 'v3.0.1' #@param [\"v3.0.1\", ] {allow-input: true}\n",
        "\n",
        "!git clone https://github.com/albert-coder-007/facetest.git\n",
        "%cd /content/facetest\n",
        "!git checkout {tag}"
      ]
    },
    {
      "cell_type": "code",
      "execution_count": null,
      "metadata": {
        "id": "xRbseCrr-h_Q",
        "cellView": "form"
      },
      "outputs": [],
      "source": [
        "#2.安装依赖\n",
        "\n",
        "%cd /content/facetest\n",
        "!python install.py --skip-conda --onnxruntime cuda\n"
      ]
    },
    {
      "cell_type": "code",
      "execution_count": null,
      "metadata": {
        "id": "nll7dBV6-7yU",
        "cellView": "form"
      },
      "outputs": [],
      "source": [
        "#3.运行软件\n",
        "!python run.py run --ui-layouts share"
      ]
    },
    {
      "cell_type": "markdown",
      "source": [
        "脚本来源：[face](https://github.com/albert-coder-007/face_colab)  \n",
        "原项目：[facefusion](https://github.com/facefusion/facefusion)  \n",
        "\n",
        "\n",
        "\n"
      ],
      "metadata": {
        "id": "Rg6t68D_5BtS"
      }
    }
  ],
  "metadata": {
    "accelerator": "GPU",
    "colab": {
      "provenance": [],
      "toc_visible": true,
      "authorship_tag": "ABX9TyMH7jHKcwPAwPVpa0znYfz2",
      "include_colab_link": true
    },
    "kernelspec": {
      "display_name": "Python 3",
      "name": "python3"
    },
    "language_info": {
      "name": "python"
    }
  },
  "nbformat": 4,
  "nbformat_minor": 0
}
